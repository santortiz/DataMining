{
 "cells": [
  {
   "cell_type": "code",
   "execution_count": 1,
   "id": "41c7a280",
   "metadata": {},
   "outputs": [],
   "source": [
    "import requests\n",
    "from bs4 import BeautifulSoup as bs\n",
    "import pandas as pd\n",
    "import astropy\n",
    "import matplotlib.pyplot as plt"
   ]
  },
  {
   "cell_type": "markdown",
   "id": "07a52779",
   "metadata": {},
   "source": [
    "## Extracción datos simbad"
   ]
  },
  {
   "cell_type": "code",
   "execution_count": 2,
   "id": "bfac123f",
   "metadata": {},
   "outputs": [],
   "source": [
    "r= requests.get(\"http://simbad.cds.unistra.fr/simbad/sim-id?Ident=NAME+ASSOC+II+SCO&NbIdent=query_hlinks&Coord=16+15-24.2&children=1121&submit=children&hlinksdisplay=h_all\")"
   ]
  },
  {
   "cell_type": "code",
   "execution_count": 3,
   "id": "b16ff4aa",
   "metadata": {},
   "outputs": [],
   "source": [
    "soup= bs(r.content)"
   ]
  },
  {
   "cell_type": "code",
   "execution_count": 4,
   "id": "8124d3f3",
   "metadata": {},
   "outputs": [],
   "source": [
    "table= soup.find_all(\"table\", attrs={\"id\":\"datatable\"})\n",
    "\n",
    "df= pd.read_html(str(table))[0]"
   ]
  },
  {
   "cell_type": "code",
   "execution_count": 5,
   "id": "a7631b32",
   "metadata": {},
   "outputs": [
    {
     "data": {
      "text/html": [
       "<div>\n",
       "<style scoped>\n",
       "    .dataframe tbody tr th:only-of-type {\n",
       "        vertical-align: middle;\n",
       "    }\n",
       "\n",
       "    .dataframe tbody tr th {\n",
       "        vertical-align: top;\n",
       "    }\n",
       "\n",
       "    .dataframe thead th {\n",
       "        text-align: right;\n",
       "    }\n",
       "</style>\n",
       "<table border=\"1\" class=\"dataframe\">\n",
       "  <thead>\n",
       "    <tr style=\"text-align: right;\">\n",
       "      <th></th>\n",
       "      <th>N</th>\n",
       "      <th>Identifier</th>\n",
       "      <th>dist(asec)</th>\n",
       "      <th>Hierarchy probability of membership prob.member</th>\n",
       "      <th>Reference of the hierarchical link link ref</th>\n",
       "      <th>Origin for this hierarchical link : Biblio/Simbad linkcomment</th>\n",
       "      <th>Otype</th>\n",
       "      <th>ICRS (J2000)RA</th>\n",
       "      <th>ICRS (J2000)DEC</th>\n",
       "      <th>Mag U</th>\n",
       "      <th>Mag B</th>\n",
       "      <th>Mag V</th>\n",
       "      <th>Mag R</th>\n",
       "      <th>Mag I</th>\n",
       "      <th>Sp type</th>\n",
       "      <th>#ref 1850 - 2022</th>\n",
       "      <th>#notes</th>\n",
       "    </tr>\n",
       "  </thead>\n",
       "  <tbody>\n",
       "    <tr>\n",
       "      <th>0</th>\n",
       "      <td>1</td>\n",
       "      <td>CD-43 6891</td>\n",
       "      <td>226775.71</td>\n",
       "      <td>100</td>\n",
       "      <td>2016MNRAS.461..794P</td>\n",
       "      <td>B</td>\n",
       "      <td>*</td>\n",
       "      <td>11 14 34.4317850256</td>\n",
       "      <td>-44 18 24.129693828</td>\n",
       "      <td>NaN</td>\n",
       "      <td>10.760</td>\n",
       "      <td>9.730</td>\n",
       "      <td>NaN</td>\n",
       "      <td>NaN</td>\n",
       "      <td>K2IV</td>\n",
       "      <td>2</td>\n",
       "      <td>0</td>\n",
       "    </tr>\n",
       "    <tr>\n",
       "      <th>1</th>\n",
       "      <td>2</td>\n",
       "      <td>HD 99627</td>\n",
       "      <td>220604.23</td>\n",
       "      <td>72</td>\n",
       "      <td>2011MNRAS.416.3108R</td>\n",
       "      <td>B</td>\n",
       "      <td>*</td>\n",
       "      <td>11 27 29.3802896784</td>\n",
       "      <td>-39 52 35.444378964</td>\n",
       "      <td>NaN</td>\n",
       "      <td>7.380</td>\n",
       "      <td>7.320</td>\n",
       "      <td>NaN</td>\n",
       "      <td>NaN</td>\n",
       "      <td>A0V</td>\n",
       "      <td>17</td>\n",
       "      <td>0</td>\n",
       "    </tr>\n",
       "    <tr>\n",
       "      <th>2</th>\n",
       "      <td>3</td>\n",
       "      <td>2MASS J11272881-3952572</td>\n",
       "      <td>220607.45</td>\n",
       "      <td>100</td>\n",
       "      <td>2016MNRAS.461..794P</td>\n",
       "      <td>B</td>\n",
       "      <td>Y*?</td>\n",
       "      <td>11 27 28.8046781424</td>\n",
       "      <td>-39 52 57.425386944</td>\n",
       "      <td>NaN</td>\n",
       "      <td>11.200</td>\n",
       "      <td>10.600</td>\n",
       "      <td>NaN</td>\n",
       "      <td>NaN</td>\n",
       "      <td>K3IV(e)</td>\n",
       "      <td>4</td>\n",
       "      <td>0</td>\n",
       "    </tr>\n",
       "    <tr>\n",
       "      <th>3</th>\n",
       "      <td>4</td>\n",
       "      <td>HD 103823</td>\n",
       "      <td>201554.85</td>\n",
       "      <td>53</td>\n",
       "      <td>2011MNRAS.416.3108R</td>\n",
       "      <td>B</td>\n",
       "      <td>*</td>\n",
       "      <td>11 57 12.3975469056</td>\n",
       "      <td>-36 04 57.630203112</td>\n",
       "      <td>NaN</td>\n",
       "      <td>10.010</td>\n",
       "      <td>9.410</td>\n",
       "      <td>NaN</td>\n",
       "      <td>NaN</td>\n",
       "      <td>G2/3V</td>\n",
       "      <td>13</td>\n",
       "      <td>0</td>\n",
       "    </tr>\n",
       "    <tr>\n",
       "      <th>4</th>\n",
       "      <td>5</td>\n",
       "      <td>HD 102981</td>\n",
       "      <td>203345.92</td>\n",
       "      <td>82</td>\n",
       "      <td>2011MNRAS.416.3108R</td>\n",
       "      <td>B</td>\n",
       "      <td>*</td>\n",
       "      <td>11 51 13.1367947736</td>\n",
       "      <td>-43 55 59.005168680</td>\n",
       "      <td>NaN</td>\n",
       "      <td>6.583</td>\n",
       "      <td>6.593</td>\n",
       "      <td>NaN</td>\n",
       "      <td>NaN</td>\n",
       "      <td>A0V</td>\n",
       "      <td>35</td>\n",
       "      <td>0</td>\n",
       "    </tr>\n",
       "  </tbody>\n",
       "</table>\n",
       "</div>"
      ],
      "text/plain": [
       "   N               Identifier  dist(asec)  \\\n",
       "0  1               CD-43 6891   226775.71   \n",
       "1  2                 HD 99627   220604.23   \n",
       "2  3  2MASS J11272881-3952572   220607.45   \n",
       "3  4                HD 103823   201554.85   \n",
       "4  5                HD 102981   203345.92   \n",
       "\n",
       "   Hierarchy probability of membership prob.member  \\\n",
       "0                                              100   \n",
       "1                                               72   \n",
       "2                                              100   \n",
       "3                                               53   \n",
       "4                                               82   \n",
       "\n",
       "  Reference of the hierarchical link link ref  \\\n",
       "0                         2016MNRAS.461..794P   \n",
       "1                         2011MNRAS.416.3108R   \n",
       "2                         2016MNRAS.461..794P   \n",
       "3                         2011MNRAS.416.3108R   \n",
       "4                         2011MNRAS.416.3108R   \n",
       "\n",
       "  Origin for this hierarchical link : Biblio/Simbad linkcomment Otype  \\\n",
       "0                                                  B                *   \n",
       "1                                                  B                *   \n",
       "2                                                  B              Y*?   \n",
       "3                                                  B                *   \n",
       "4                                                  B                *   \n",
       "\n",
       "        ICRS (J2000)RA      ICRS (J2000)DEC  Mag U   Mag B   Mag V  Mag R  \\\n",
       "0  11 14 34.4317850256  -44 18 24.129693828    NaN  10.760   9.730    NaN   \n",
       "1  11 27 29.3802896784  -39 52 35.444378964    NaN   7.380   7.320    NaN   \n",
       "2  11 27 28.8046781424  -39 52 57.425386944    NaN  11.200  10.600    NaN   \n",
       "3  11 57 12.3975469056  -36 04 57.630203112    NaN  10.010   9.410    NaN   \n",
       "4  11 51 13.1367947736  -43 55 59.005168680    NaN   6.583   6.593    NaN   \n",
       "\n",
       "   Mag I  Sp type  #ref 1850 - 2022  #notes  \n",
       "0    NaN     K2IV                 2       0  \n",
       "1    NaN      A0V                17       0  \n",
       "2    NaN  K3IV(e)                 4       0  \n",
       "3    NaN    G2/3V                13       0  \n",
       "4    NaN      A0V                35       0  "
      ]
     },
     "execution_count": 5,
     "metadata": {},
     "output_type": "execute_result"
    }
   ],
   "source": [
    "df.head()"
   ]
  },
  {
   "cell_type": "code",
   "execution_count": 16,
   "id": "4863026f",
   "metadata": {},
   "outputs": [],
   "source": [
    "df_ = pd.DataFrame()"
   ]
  },
  {
   "cell_type": "code",
   "execution_count": 20,
   "id": "01c8bda3",
   "metadata": {},
   "outputs": [],
   "source": [
    "ra= [ pd.to_numeric(ra.split(' ')) for ra in df['ICRS (J2000)RA'] if len(ra.split(' '))==3]\n",
    "\n",
    "df_[\"ra_simbad\"]= [ val[0] + val[1]/60 + val[2]/3600 for val in ra]\n",
    "\n",
    "dec= [ pd.to_numeric(dec.split(' ')) for dec in df['ICRS (J2000)DEC'] if len(dec.split(' '))==3]\n",
    "\n",
    "df_[\"dec_simbad\"] = [ val[0] + val[1]/60 + val[2]/3600 if val[0]>0 else val[0] - val[1]/60 - val[2]/3600 for val in dec]\n",
    "\n",
    "df_[\"Identifier\"] = [ df[\"Identifier\"][i] for i in range(len(df)) if  len(df['ICRS (J2000)DEC'][i].split(' '))==3]"
   ]
  },
  {
   "cell_type": "code",
   "execution_count": 21,
   "id": "3385d3ad",
   "metadata": {},
   "outputs": [
    {
     "data": {
      "text/html": [
       "<div>\n",
       "<style scoped>\n",
       "    .dataframe tbody tr th:only-of-type {\n",
       "        vertical-align: middle;\n",
       "    }\n",
       "\n",
       "    .dataframe tbody tr th {\n",
       "        vertical-align: top;\n",
       "    }\n",
       "\n",
       "    .dataframe thead th {\n",
       "        text-align: right;\n",
       "    }\n",
       "</style>\n",
       "<table border=\"1\" class=\"dataframe\">\n",
       "  <thead>\n",
       "    <tr style=\"text-align: right;\">\n",
       "      <th></th>\n",
       "      <th>ra_simbad</th>\n",
       "      <th>dec_simbad</th>\n",
       "      <th>Identifier</th>\n",
       "    </tr>\n",
       "  </thead>\n",
       "  <tbody>\n",
       "    <tr>\n",
       "      <th>0</th>\n",
       "      <td>11.242898</td>\n",
       "      <td>-44.306703</td>\n",
       "      <td>CD-43 6891</td>\n",
       "    </tr>\n",
       "    <tr>\n",
       "      <th>1</th>\n",
       "      <td>11.458161</td>\n",
       "      <td>-39.876512</td>\n",
       "      <td>HD 99627</td>\n",
       "    </tr>\n",
       "    <tr>\n",
       "      <th>2</th>\n",
       "      <td>11.458001</td>\n",
       "      <td>-39.882618</td>\n",
       "      <td>2MASS J11272881-3952572</td>\n",
       "    </tr>\n",
       "    <tr>\n",
       "      <th>3</th>\n",
       "      <td>11.953444</td>\n",
       "      <td>-36.082675</td>\n",
       "      <td>HD 103823</td>\n",
       "    </tr>\n",
       "    <tr>\n",
       "      <th>4</th>\n",
       "      <td>11.853649</td>\n",
       "      <td>-43.933057</td>\n",
       "      <td>HD 102981</td>\n",
       "    </tr>\n",
       "  </tbody>\n",
       "</table>\n",
       "</div>"
      ],
      "text/plain": [
       "   ra_simbad  dec_simbad               Identifier\n",
       "0  11.242898  -44.306703               CD-43 6891\n",
       "1  11.458161  -39.876512                 HD 99627\n",
       "2  11.458001  -39.882618  2MASS J11272881-3952572\n",
       "3  11.953444  -36.082675                HD 103823\n",
       "4  11.853649  -43.933057                HD 102981"
      ]
     },
     "execution_count": 21,
     "metadata": {},
     "output_type": "execute_result"
    }
   ],
   "source": [
    "df_.head()"
   ]
  },
  {
   "cell_type": "code",
   "execution_count": 19,
   "id": "6d835d96",
   "metadata": {},
   "outputs": [],
   "source": [
    "df_.to_csv(\"sco_ob2_simbad.csv\", index=False)"
   ]
  },
  {
   "cell_type": "code",
   "execution_count": 27,
   "id": "17ccb49e",
   "metadata": {},
   "outputs": [],
   "source": [
    "from astropy import units as u\n",
    "from astroquery.xmatch import XMatch"
   ]
  },
  {
   "cell_type": "code",
   "execution_count": 33,
   "id": "1c88b1ab",
   "metadata": {},
   "outputs": [],
   "source": [
    "table = XMatch.query(cat1=open('sco_ob2_simbad.csv'),\n",
    "                     cat2='vizier:I/350/gaiaedr3',\n",
    "                     max_distance=1.8*u.arcsec, colRA1='ra_simbad',\n",
    "                     colDec1='dec_simbad')"
   ]
  },
  {
   "cell_type": "code",
   "execution_count": 34,
   "id": "4f5c7705",
   "metadata": {},
   "outputs": [
    {
     "data": {
      "text/html": [
       "<div><i>Table length=3</i>\n",
       "<table id=\"table140073941427056\" class=\"table-striped table-bordered table-condensed\">\n",
       "<thead><tr><th>angDist</th><th>ra_simbad</th><th>dec_simbad</th><th>Identifier</th><th>ra_epoch2000</th><th>dec_epoch2000</th><th>errHalfMaj</th><th>errHalfMin</th><th>errPosAng</th><th>source_id</th><th>ra</th><th>ra_error</th><th>dec</th><th>dec_error</th><th>parallax</th><th>parallax_error</th><th>parallax_over_error</th><th>pm</th><th>pmra</th><th>pmra_error</th><th>pmdec</th><th>pmdec_error</th><th>astrometric_n_good_obs_al</th><th>astrometric_gof_al</th><th>astrometric_chi2_al</th><th>astrometric_excess_noise</th><th>astrometric_excess_noise_sig</th><th>astrometric_params_solved</th><th>pseudocolour</th><th>pseudocolour_error</th><th>visibility_periods_used</th><th>ruwe</th><th>duplicated_source</th><th>phot_g_mean_flux</th><th>phot_g_mean_flux_error</th><th>phot_g_mean_mag</th><th>phot_bp_mean_flux</th><th>phot_bp_mean_flux_error</th><th>phot_bp_mean_mag</th><th>phot_rp_mean_flux</th><th>phot_rp_mean_mag</th><th>phot_bp_rp_excess_factor</th><th>bp_rp</th><th>dr2_radial_velocity</th><th>dr2_radial_velocity_error</th><th>dr2_rv_nb_transits</th><th>dr2_rv_template_teff</th><th>dr2_rv_template_logg</th><th>panstarrs1</th><th>sdssdr13</th><th>skymapper2</th><th>urat1</th><th>phot_g_mean_mag_error</th><th>phot_bp_mean_mag_error</th><th>phot_rp_mean_mag_error</th><th>phot_g_mean_mag_corrected</th><th>phot_g_mean_mag_error_corrected</th><th>phot_g_mean_flux_corrected</th><th>phot_bp_rp_excess_factor_corrected</th><th>ra_epoch2000_error</th><th>dec_epoch2000_error</th><th>ra_dec_epoch2000_corr</th></tr></thead>\n",
       "<thead><tr><th>float64</th><th>float64</th><th>float64</th><th>str15</th><th>float64</th><th>float64</th><th>float64</th><th>float64</th><th>float64</th><th>int64</th><th>float64</th><th>float64</th><th>float64</th><th>float64</th><th>float64</th><th>float64</th><th>float64</th><th>float64</th><th>float64</th><th>float64</th><th>float64</th><th>float64</th><th>int64</th><th>float64</th><th>float64</th><th>float64</th><th>float64</th><th>int64</th><th>float64</th><th>float64</th><th>int64</th><th>float64</th><th>int64</th><th>float64</th><th>float64</th><th>float64</th><th>float64</th><th>float64</th><th>float64</th><th>float64</th><th>float64</th><th>float64</th><th>float64</th><th>int64</th><th>int64</th><th>int64</th><th>int64</th><th>int64</th><th>int64</th><th>int64</th><th>int64</th><th>int64</th><th>float64</th><th>float64</th><th>float64</th><th>float64</th><th>float64</th><th>float64</th><th>float64</th><th>float64</th><th>float64</th><th>float64</th></tr></thead>\n",
       "<tr><td>0.752395</td><td>12.414421862854</td><td>-72.60389868716</td><td>HD 107947</td><td>12.41439662079</td><td>-72.60368982498</td><td>0.0064917</td><td>0.0055969</td><td>31.94</td><td>4688982824084914688</td><td>12.41439957823</td><td>0.3019</td><td>-72.60369532371</td><td>0.2729</td><td>-0.1477</td><td>0.3217</td><td>-0.4592</td><td>1.253</td><td>0.199</td><td>0.361</td><td>-1.237</td><td>0.39</td><td>315</td><td>-1.4223</td><td>286.55</td><td>0.0</td><td>0.0</td><td>95</td><td>1.556</td><td>0.1042</td><td>26</td><td>0.942</td><td>0</td><td>214.257</td><td>0.805607</td><td>19.860027</td><td>139.773</td><td>5.66319</td><td>19.974987</td><td>103.2</td><td>19.713694</td><td>1.134</td><td>0.261293</td><td>--</td><td>--</td><td>0</td><td>--</td><td>--</td><td>--</td><td>--</td><td>--</td><td>--</td><td>0.004925</td><td>0.044079</td><td>0.082645</td><td>19.859676</td><td>0.004924</td><td>214.327</td><td>-0.031</td><td>5.8612</td><td>6.2541</td><td>0.1325</td></tr>\n",
       "<tr><td>0.840701</td><td>13.525268722796667</td><td>-46.7352329795</td><td>HD 117484</td><td>13.52494038249</td><td>-46.73529538738</td><td>0.0007213</td><td>0.0004686</td><td>144.79</td><td>4981301596729062272</td><td>13.52479598777</td><td>0.0301</td><td>-46.73534723991</td><td>0.0347</td><td>2.6135</td><td>0.0564</td><td>46.3335</td><td>25.138</td><td>-22.267</td><td>0.035</td><td>-11.667</td><td>0.041</td><td>708</td><td>100.2785</td><td>15761.96</td><td>0.537</td><td>369.5</td><td>31</td><td>--</td><td>--</td><td>30</td><td>4.642</td><td>0</td><td>98090.2</td><td>36.9824</td><td>13.208303</td><td>50942.9</td><td>21.1408</td><td>13.570834</td><td>69330.0</td><td>12.645592</td><td>1.226</td><td>0.925242</td><td>--</td><td>--</td><td>0</td><td>--</td><td>--</td><td>--</td><td>--</td><td>503981259</td><td>--</td><td>0.002786</td><td>0.002826</td><td>0.003798</td><td>13.208303</td><td>0.002786</td><td>98090.2</td><td>0.016</td><td>0.5653</td><td>0.6483</td><td>-0.3866</td></tr>\n",
       "<tr><td>1.024369</td><td>12.236527909716</td><td>-54.93395705264</td><td>TYC 8637-2220-1</td><td>12.23607181951</td><td>-54.9338461228</td><td>0.0057818</td><td>0.00458</td><td>2.45</td><td>4920844984233839104</td><td>12.23608701997</td><td>0.2291</td><td>-54.93387885352</td><td>0.2702</td><td>-0.6014</td><td>0.3292</td><td>-1.8268</td><td>7.622</td><td>1.965</td><td>0.285</td><td>-7.364</td><td>0.363</td><td>455</td><td>-0.3806</td><td>466.07</td><td>0.0</td><td>0.0</td><td>31</td><td>--</td><td>--</td><td>29</td><td>0.987</td><td>0</td><td>204.369</td><td>0.693383</td><td>19.911327</td><td>119.879</td><td>6.73439</td><td>20.141685</td><td>139.666</td><td>19.385166</td><td>1.27</td><td>0.756519</td><td>--</td><td>--</td><td>0</td><td>--</td><td>--</td><td>--</td><td>--</td><td>503331039</td><td>--</td><td>0.0046</td><td>0.061057</td><td>0.058879</td><td>19.911327</td><td>0.0046</td><td>204.369</td><td>0.074</td><td>4.5824</td><td>5.7798</td><td>0.0201</td></tr>\n",
       "</table></div>"
      ],
      "text/plain": [
       "<Table length=3>\n",
       "angDist      ra_simbad      ... dec_epoch2000_error ra_dec_epoch2000_corr\n",
       "float64       float64       ...       float64              float64       \n",
       "-------- ------------------ ... ------------------- ---------------------\n",
       "0.752395    12.414421862854 ...              6.2541                0.1325\n",
       "0.840701 13.525268722796667 ...              0.6483               -0.3866\n",
       "1.024369    12.236527909716 ...              5.7798                0.0201"
      ]
     },
     "execution_count": 34,
     "metadata": {},
     "output_type": "execute_result"
    }
   ],
   "source": [
    "table"
   ]
  },
  {
   "cell_type": "code",
   "execution_count": null,
   "id": "00f7907f",
   "metadata": {},
   "outputs": [],
   "source": []
  }
 ],
 "metadata": {
  "kernelspec": {
   "display_name": "Python 3 (ipykernel)",
   "language": "python",
   "name": "python3"
  },
  "language_info": {
   "codemirror_mode": {
    "name": "ipython",
    "version": 3
   },
   "file_extension": ".py",
   "mimetype": "text/x-python",
   "name": "python",
   "nbconvert_exporter": "python",
   "pygments_lexer": "ipython3",
   "version": "3.8.10"
  }
 },
 "nbformat": 4,
 "nbformat_minor": 5
}
