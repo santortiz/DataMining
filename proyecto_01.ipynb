{
 "cells": [
  {
   "cell_type": "code",
   "execution_count": 18,
   "id": "17341f5d",
   "metadata": {},
   "outputs": [],
   "source": [
    "import requests\n",
    "from bs4 import BeautifulSoup as bs\n",
    "\n",
    "import pandas as pd\n",
    "pd.options.mode.chained_assignment = None\n",
    "\n",
    "import astropy.coordinates as coord\n",
    "from astropy import units as u\n",
    "\n",
    "\n",
    "import matplotlib.pyplot as plt\n",
    "from matplotlib.animation import FuncAnimation\n",
    "\n",
    "import numpy as np\n",
    "\n",
    "%matplotlib qt5"
   ]
  },
  {
   "cell_type": "code",
   "execution_count": 2,
   "id": "5bdd7644",
   "metadata": {},
   "outputs": [],
   "source": [
    "from astropy.io.votable import parse\n",
    "import pandas as pd\n",
    "\n",
    "def votable_to_pandas(votable_file):\n",
    "    votable = parse(votable_file)\n",
    "    table = votable.get_first_table().to_table(use_names_over_ids=True)\n",
    "    return table.to_pandas()"
   ]
  },
  {
   "cell_type": "code",
   "execution_count": 6,
   "id": "ac8c272c",
   "metadata": {},
   "outputs": [
    {
     "name": "stdout",
     "output_type": "stream",
     "text": [
      "gzip: cross_match-result.vot.gz: No such file or directory\r\n"
     ]
    }
   ],
   "source": [
    "!gzip -d \"cross_match-result.vot.gz\""
   ]
  },
  {
   "cell_type": "code",
   "execution_count": 7,
   "id": "504d4b1d",
   "metadata": {},
   "outputs": [],
   "source": [
    "vot= votable_to_pandas(\"cross_match-result.vot\")\n",
    "\n",
    "#filtro para descartar los que no tengan velocidad radial medida, errores en la velocidad radial mayores al 10%\n",
    "#errores en el movimiento propio mayores al 10% y errores en el paralaje mayores al 10%\n",
    "\n",
    "cumulo=vot[~(vot[\"dr2_radial_velocity\"].isnull()) & (vot[\"dr2_radial_velocity_error\"]/vot[\"dr2_radial_velocity\"]<0.1) \\\n",
    "            & (vot[\"pmra_error\"]/vot[\"pmra\"]<0.1) & (vot[\"pmdec_error\"]/vot[\"pmdec\"]<0.1) \\\n",
    "           & (vot[\"parallax_over_error\"]>10)]"
   ]
  },
  {
   "cell_type": "code",
   "execution_count": 8,
   "id": "e430ef75",
   "metadata": {},
   "outputs": [
    {
     "data": {
      "text/plain": [
       "56"
      ]
     },
     "execution_count": 8,
     "metadata": {},
     "output_type": "execute_result"
    },
    {
     "data": {
      "image/png": "[encoded data removed]",
      "text/plain": [
       "<Figure size 432x288 with 1 Axes>"
      ]
     },
     "metadata": {
      "needs_background": "light"
     },
     "output_type": "display_data"
    }
   ],
   "source": [
    "plt.hist(cumulo[\"parallax\"])\n",
    "len(cumulo)"
   ]
  },
  {
   "cell_type": "code",
   "execution_count": 9,
   "id": "cf5e7c9b",
   "metadata": {},
   "outputs": [],
   "source": [
    "def astrosol(j):\n",
    "    x=1000/j['parallax']*np.cos(j['dec']*np.pi/180)*np.cos(j['ra']*np.pi/180)\n",
    "    y=1000/j['parallax']*np.cos(j['dec']*np.pi/180)*np.sin(j['ra']*np.pi/180)\n",
    "    z=1000/j['parallax']*np.sin(j['dec']*np.pi/180)\n",
    "\n",
    "    vx=[]\n",
    "    vy=[]\n",
    "    vz=[]\n",
    "    xa=[]\n",
    "    ya=[]\n",
    "    za=[]\n",
    "    for i in range(len(j)):\n",
    "        mdec=j['dec'][i]\n",
    "        mra=j['ra'][i]\n",
    "        mpar=j['parallax'][i]\n",
    "        mpmra=j['pmra'][i]\n",
    "        mpmdec=j['pmdec'][i]\n",
    "        mvr=j['dr2_radial_velocity'][i]\n",
    "        c1 = coord.ICRS(ra=mra*u.degree, dec=mdec*u.degree,\n",
    "                    distance=(mpar*u.mas).to(u.pc, u.parallax()),\n",
    "                    pm_ra_cosdec=mpmra*u.mas/u.yr,\n",
    "                    pm_dec=mpmdec*u.mas/u.yr,\n",
    "                    radial_velocity=mvr*u.km/u.s)\n",
    "        gc1 = c1.transform_to(coord.Galactocentric)\n",
    "        vx+=[gc1.v_x.value]\n",
    "        vy+=[gc1.v_y.value]\n",
    "        vz+=[gc1.v_z.value]\n",
    "        xa+=[gc1.x.value]\n",
    "        ya+=[gc1.y.value]\n",
    "        za+=[gc1.z.value]\n",
    "    vx=np.array(vx)\n",
    "    vy=np.array(vy)\n",
    "    vz=np.array(vz)\n",
    "    return x,y,z,vx,vy,vz,xa,ya,za"
   ]
  },
  {
   "cell_type": "code",
   "execution_count": 12,
   "id": "cc76c99f",
   "metadata": {},
   "outputs": [],
   "source": [
    "cumulo_= cumulo.reset_index()"
   ]
  },
  {
   "cell_type": "code",
   "execution_count": 38,
   "id": "551d543c",
   "metadata": {},
   "outputs": [
    {
     "name": "stderr",
     "output_type": "stream",
     "text": [
      "WARNING: AstropyDeprecationWarning: Transforming a frame instance to a frame class (as opposed to another frame instance) will not be supported in the future.  Either explicitly instantiate the target frame, or first convert the source frame instance to a `astropy.coordinates.SkyCoord` and use its `transform_to()` method. [astropy.coordinates.baseframe]\n"
     ]
    }
   ],
   "source": [
    "x,y,z,vx,vy,vz,xa,ya,za= astrosol(cumulo_)"
   ]
  },
  {
   "cell_type": "code",
   "execution_count": 42,
   "id": "d3656b31",
   "metadata": {},
   "outputs": [
    {
     "data": {
      "text/plain": [
       "array([0., 0., 0.])"
      ]
     },
     "execution_count": 42,
     "metadata": {},
     "output_type": "execute_result"
    }
   ],
   "source": [
    "T=100 #tiempo de regresión\n",
    "n=1000 #número de particiones\n",
    "ts= np.linspace(0,T,n)\n",
    "pos= np.zeros((len(cumulo), n,3))\n",
    "\n",
    "pos[55, 0]"
   ]
  },
  {
   "cell_type": "code",
   "execution_count": 43,
   "id": "c38b3da9",
   "metadata": {},
   "outputs": [],
   "source": [
    "for i in range(len(pos)):\n",
    "    for j in range(len(ts)):\n",
    "        pos[i,j]= [xa[i] - vx[i]*ts[j], ya[i] - vy[i]*ts[j], za[i] - vz[i]*ts[j]]"
   ]
  },
  {
   "cell_type": "code",
   "execution_count": 44,
   "id": "38594ebe",
   "metadata": {},
   "outputs": [],
   "source": [
    "plt.figure()\n",
    "ax=plt.axes(projection='3d')\n",
    "\n",
    "ax.scatter(pos[:20,:,0], pos[:20,:,1], pos[:20,:,2])\n",
    "ax.scatter(pos[0,0,0], pos[0,0,1], pos[0,0,2])\n",
    "\n",
    "plt.show()"
   ]
  },
  {
   "cell_type": "markdown",
   "id": "c3179205",
   "metadata": {},
   "source": [
    "### distancias al centro"
   ]
  },
  {
   "cell_type": "code",
   "execution_count": null,
   "id": "470945d8",
   "metadata": {},
   "outputs": [],
   "source": []
  }
 ],
 "metadata": {
  "kernelspec": {
   "display_name": "Python 3 (ipykernel)",
   "language": "python",
   "name": "python3"
  },
  "language_info": {
   "codemirror_mode": {
    "name": "ipython",
    "version": 3
   },
   "file_extension": ".py",
   "mimetype": "text/x-python",
   "name": "python",
   "nbconvert_exporter": "python",
   "pygments_lexer": "ipython3",
   "version": "3.9.7"
  }
 },
 "nbformat": 4,
 "nbformat_minor": 5
}
